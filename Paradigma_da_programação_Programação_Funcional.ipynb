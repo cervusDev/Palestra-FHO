{
  "nbformat": 4,
  "nbformat_minor": 0,
  "metadata": {
    "colab": {
      "name": "Paradigma da programação: Programação Funcional",
      "private_outputs": true,
      "provenance": [],
      "authorship_tag": "ABX9TyPLfihLj1vlecIYJ36c+VUR",
      "include_colab_link": true
    },
    "kernelspec": {
      "name": "python3",
      "display_name": "Python 3"
    },
    "language_info": {
      "name": "python"
    },
    "accelerator": "GPU"
  },
  "cells": [
    {
      "cell_type": "markdown",
      "metadata": {
        "id": "view-in-github",
        "colab_type": "text"
      },
      "source": [
        "<a href=\"https://colab.research.google.com/github/gucervus/Palestra-FHO/blob/main/Paradigma_da_programa%C3%A7%C3%A3o_Programa%C3%A7%C3%A3o_Funcional.ipynb\" target=\"_parent\"><img src=\"https://colab.research.google.com/assets/colab-badge.svg\" alt=\"Open In Colab\"/></a>"
      ]
    },
    {
      "cell_type": "markdown",
      "metadata": {
        "id": "a7hrcaDsGAO8"
      },
      "source": [
        "    Paradigma de programação: Uma forma de abordar um problema do ponto de vista \n",
        "    lógico e prático no momento de codar\n",
        "\n",
        "    Esse paradigma trata a programação de um ponto de vista \n",
        "    matemático... Mas o que isso significa?"
      ]
    },
    {
      "cell_type": "markdown",
      "metadata": {
        "id": "EFEDR3xOKaDe"
      },
      "source": [
        "Ponto de vista do objeto"
      ]
    },
    {
      "cell_type": "code",
      "metadata": {
        "id": "nA0E1NVWFhQy"
      },
      "source": [
        "class Calculadora():\n",
        "  # Função construtora\n",
        "                    #Atributos do objeto Calculadora\n",
        "  def __init__(self, primeiroNumero, segundoNumero):\n",
        "    self.primeiroNumero = primeiroNumero\n",
        "    self.segundoNumero = segundoNumero\n",
        "\n",
        "  def soma(self):\n",
        "    return self.primeiroNumero + self.segundoNumero\n",
        "\n",
        "if __name__ == '__main__':\n",
        "  objeto = Calculadora(10,7)\n",
        "  print(objeto.soma())"
      ],
      "execution_count": null,
      "outputs": []
    },
    {
      "cell_type": "markdown",
      "metadata": {
        "id": "vB8BUGfPKcdD"
      },
      "source": [
        "Ponto de vista matemático\n",
        "    \n",
        "    . Adição de quaisquer sequência de números\n",
        "    . Conjunto formulado a partir de um subconjunto\n",
        "\n",
        "      . Note a independência que a programação funcional possui,\n",
        "        quando observamos a função construtora da POO, onde \n",
        "        nossa operação é dependente da função construtora\n",
        "\n",
        "      . Isso permite-nos focar apenas nos parâmetros e na própria\n",
        "        operação"
      ]
    },
    {
      "cell_type": "code",
      "metadata": {
        "id": "2afBTcExIjOM"
      },
      "source": [
        "          #elementos que constituem a operação\n",
        "def soma(a,b):\n",
        "  soma = a + b\n",
        "  return soma\n",
        "soma(10,7)"
      ],
      "execution_count": null,
      "outputs": []
    },
    {
      "cell_type": "markdown",
      "metadata": {
        "id": "yZddMgsjNe9W"
      },
      "source": [
        "      Mas e essa tal de independência?\n",
        "\n",
        "        1. Possuir ao menor um parâmetro\n",
        "        2. Deve retornar um objeto (valor, string, função)\n",
        "        3. Não deve possuir loops"
      ]
    },
    {
      "cell_type": "code",
      "metadata": {
        "id": "Vo2emfw_P0pu"
      },
      "source": [
        "def criaArray():\n",
        "  palavra = 'olá mundo'\n",
        "  lista = []\n",
        "  for i in palavra:\n",
        "    lista+=[i]\n",
        "\n",
        "  print(lista)\n",
        "\n",
        "criaArray()"
      ],
      "execution_count": null,
      "outputs": []
    },
    {
      "cell_type": "code",
      "metadata": {
        "id": "MWmCHs1YLKuX"
      },
      "source": [
        "def criaArray(palavra):\n",
        "  func = lambda x: x\n",
        "  lista = list(map(str, func(palavra)))\n",
        "\n",
        "  return lista\n",
        "\n",
        "criaArray('olá mundo')"
      ],
      "execution_count": null,
      "outputs": []
    },
    {
      "cell_type": "markdown",
      "metadata": {
        "id": "ShhhdK2ERsQN"
      },
      "source": [
        "      Caracteristicas básicas de uma função\n",
        "\n",
        "        . Imutável \n",
        "        . Sem mudança de estados"
      ]
    },
    {
      "cell_type": "markdown",
      "metadata": {
        "id": "JsiyIl_1SkaC"
      },
      "source": [
        "Imutabilidade: Não capacidade de mutar um objeto\n",
        " - Logo, um valor atribuido a uma variável, nunca deve ser alterado"
      ]
    },
    {
      "cell_type": "code",
      "metadata": {
        "id": "5ww6WWvBUurJ"
      },
      "source": [
        "def mudalista(lista):\n",
        "  #Segunda nova lista\n",
        "  array = []\n",
        "  y = 0\n",
        "          # Loop que interage com a primeira lista\n",
        "  for i in lista:\n",
        "            # Condiação que altera a primeira lista uma segunda vez\n",
        "    if i % 2 == 0: \n",
        "      y+=1\n",
        "      # Primeira alteração na sugunda lista\n",
        "      array.insert(0,i)  \n",
        "    else:\n",
        "      # Segunda alteração da segunda lista\n",
        "      array.insert(len(array),i)\n",
        "  # Terceira lista que recebe a terceira e quarta alteração da segunda lista\n",
        "  ordenado = sorted(array[:y]) + sorted(array[y:])\n",
        "  return ordenado\n",
        "# inicializando uma lista\n",
        "lista = []\n",
        "for c in range(7):\n",
        "  numeros = int(input('Valores:'))\n",
        "  #Primeira alteração da lista\n",
        "  lista.append(numeros)\n",
        "\n",
        "mudalista(lista)"
      ],
      "execution_count": null,
      "outputs": []
    },
    {
      "cell_type": "code",
      "metadata": {
        "id": "niPOiQ6cYdgC"
      },
      "source": [
        "#             atribuindo-a como parâmtro\n",
        "\n",
        "def mudalista(lista):       #interagindo com a propria lista\n",
        "# Retornando a mesma\n",
        " return list(filter(lambda i: i % 2 == 0, lista))\n",
        "\n",
        "#criando uma lista\n",
        "lista = [13,56,78,54,67,465,666]\n",
        "mudalista(lista)"
      ],
      "execution_count": null,
      "outputs": []
    },
    {
      "cell_type": "code",
      "metadata": {
        "id": "T-ywGNZiTHWl"
      },
      "source": [
        ""
      ],
      "execution_count": null,
      "outputs": []
    }
  ]
}