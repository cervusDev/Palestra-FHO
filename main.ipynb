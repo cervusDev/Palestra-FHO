{
  "nbformat": 4,
  "nbformat_minor": 0,
  "metadata": {
    "colab": {
      "name": "Paradigma da programação: Programação Funcional",
      "private_outputs": true,
      "provenance": [],
      "authorship_tag": "ABX9TyOlziA43uU7gtMyAEg68H0U",
      "include_colab_link": true
    },
    "kernelspec": {
      "name": "python3",
      "display_name": "Python 3"
    },
    "language_info": {
      "name": "python"
    },
    "accelerator": "GPU"
  },
  "cells": [
    {
      "cell_type": "markdown",
      "metadata": {
        "id": "view-in-github",
        "colab_type": "text"
      },
      "source": [
        "<a href=\"https://colab.research.google.com/github/gucervus/Palestra-FHO/blob/main/main.ipynb\" target=\"_parent\"><img src=\"https://colab.research.google.com/assets/colab-badge.svg\" alt=\"Open In Colab\"/></a>"
      ]
    },
    {
      "cell_type": "markdown",
      "metadata": {
        "id": "a7hrcaDsGAO8"
      },
      "source": [
        "    Paradigma de programação: Uma forma de abordar um problema do ponto de vista \n",
        "    lógico e prático no momento de codar\n",
        "\n",
        "    Esse paradigma trata a programação de um ponto de vista \n",
        "    matemático... Mas o que isso significa?"
      ]
    },
    {
      "cell_type": "markdown",
      "metadata": {
        "id": "EFEDR3xOKaDe"
      },
      "source": [
        "Ponto de vista do objeto\n",
        "\n",
        "    1° Construir um objeto\n",
        "    2° Gerar os atributos desse objeto\n",
        "    3° Gerar as ações desse objeto\n",
        "\n",
        "    De maneira geral, a chamada da POO também é difere da \n",
        "    programação funcional"
      ]
    },
    {
      "cell_type": "code",
      "metadata": {
        "id": "nA0E1NVWFhQy"
      },
      "source": [
        "class Calculadora():\n",
        "  # Função construtora\n",
        "\n",
        "  #             Atributos do objeto Calculadora\n",
        "  def __init__(self, primeiroNumero, segundoNumero):\n",
        "    self.primeiroNumero = primeiroNumero\n",
        "    self.segundoNumero = segundoNumero\n",
        "\n",
        "  #Ação \n",
        "  def soma(self):\n",
        "    return self.primeiroNumero + self.segundoNumero\n",
        "\n",
        "if __name__ == '__main__':\n",
        "  objeto = Calculadora(10,7)\n",
        "  print(objeto.soma())"
      ],
      "execution_count": null,
      "outputs": []
    },
    {
      "cell_type": "markdown",
      "metadata": {
        "id": "vB8BUGfPKcdD"
      },
      "source": [
        "Ponto de vista matemático\n",
        "    \n",
        "    . Adição de quaisquer sequência de números\n",
        "\n",
        "    . Isso permite-nos focar apenas nos parâmetros e na própria\n",
        "      operação"
      ]
    },
    {
      "cell_type": "code",
      "metadata": {
        "id": "2afBTcExIjOM"
      },
      "source": [
        "#      elementos que constituem a operação\n",
        "def soma(a,b):\n",
        "#         operação\n",
        "  soma = a + b\n",
        "  return soma\n",
        "soma(10,7)"
      ],
      "execution_count": null,
      "outputs": []
    },
    {
      "cell_type": "markdown",
      "metadata": {
        "id": "yZddMgsjNe9W"
      },
      "source": [
        "      Mas e essa tal de independência?\n",
        "\n",
        "        1. Possuir ao menos um parâmetro\n",
        "        2. Deve retornar um objeto (valor, string, função)\n",
        "        3. Não deve possuir loops"
      ]
    },
    {
      "cell_type": "code",
      "metadata": {
        "id": "Vo2emfw_P0pu"
      },
      "source": [
        "def criaArray():\n",
        "  palavra = 'olá mundo'\n",
        "  lista = []\n",
        "  for i in palavra:\n",
        "    lista+=[i]\n",
        "\n",
        "  print(lista)\n",
        "\n",
        "criaArray()"
      ],
      "execution_count": null,
      "outputs": []
    },
    {
      "cell_type": "code",
      "metadata": {
        "id": "MWmCHs1YLKuX"
      },
      "source": [
        "def criaArray(palavra):\n",
        "  func = lambda i:i\n",
        "  return list(map(str, func(palavra)))\n",
        "criaArray('olá mundo')"
      ],
      "execution_count": null,
      "outputs": []
    },
    {
      "cell_type": "markdown",
      "metadata": {
        "id": "ShhhdK2ERsQN"
      },
      "source": [
        "      Caracteristicas básicas de uma função\n",
        "\n",
        "        . Imutável \n",
        "          - Criar novos objetos, ao invés de ficar operando sobre um mesmo \n",
        "        . Sem mudança de estados\n",
        "          - Evitar efeitos colaterais ao longo da operação"
      ]
    },
    {
      "cell_type": "code",
      "metadata": {
        "id": "mM_Qcm9HdA4s"
      },
      "source": [
        "#Criação de lista sem mutabilidade\n",
        "def separa():\n",
        "  array = list()\n",
        "  y = 0\n",
        "\n",
        "  for i in range(1,7+1):\n",
        "        \n",
        "    valores = int(input(f\"Digite o {i}° valor: \"))\n",
        "    \n",
        "    if valores % 2 == 0:\n",
        "      y+=1\n",
        "      array.insert(0,valores)  \n",
        "    else:\n",
        "      array.insert(len(array),valores)\n",
        "      \n",
        "  ordenado = sorted(array[:y]) + sorted(array[y:])\n",
        "\n",
        "  print()\n",
        "  print(ordenado)\n",
        "separa()"
      ],
      "execution_count": null,
      "outputs": []
    },
    {
      "cell_type": "code",
      "metadata": {
        "id": "niPOiQ6cYdgC"
      },
      "source": [
        "# Mesma operação com mutabilidade\n",
        "\n",
        "#             atribuindo-a como parâmtro\n",
        "def ordena(lista):       #interagindo com a propria lista\n",
        "# Retornando a mesma\n",
        "  novaLista = sorted(filter(lambda i: i % 2 == 0, lista)) + sorted(filter(lambda i: i % 2 == 1, lista))\n",
        "  return novaLista\n",
        "#criando uma lista\n",
        "lista = [13,56,78,54,67,465,666]\n",
        "def ordena(lista)"
      ],
      "execution_count": null,
      "outputs": []
    },
    {
      "cell_type": "markdown",
      "metadata": {
        "id": "yH51ylN8tQ8V"
      },
      "source": [
        "    . Torna os programas mais próximos de expressões matemáticas\n",
        "    . Confinamento de valores em espaços imutáveis na memória"
      ]
    },
    {
      "cell_type": "markdown",
      "metadata": {
        "id": "TGkrnb1KjfGg"
      },
      "source": [
        "    Função impura"
      ]
    },
    {
      "cell_type": "code",
      "metadata": {
        "id": "a1DQfvG2jhiF"
      },
      "source": [
        "# Possui um efeito colateral\n",
        "from datetime import date\n",
        "def atribui():\n",
        "  data_atual = date.today()\n",
        "  nova_data = str(data_atual)\n",
        "  data_final = int(nova_data[5:7]) + 1\n",
        "  return data_final\n",
        "atribui()"
      ],
      "execution_count": null,
      "outputs": []
    },
    {
      "cell_type": "code",
      "metadata": {
        "id": "uPKgjtvy4NF8"
      },
      "source": [
        "# Esta é uma função impura\n",
        "\n",
        "# Exemplo sobre requests: códigos assincronos\n",
        "import requests\n",
        "from time import sleep\n",
        "def resposta(request):\n",
        "  sleep(5)\n",
        "  return request.status_code\n",
        "#Inicializa um processo e finaliza posteriormente\n",
        "resposta(requests.get('https://github.com/'))"
      ],
      "execution_count": null,
      "outputs": []
    },
    {
      "cell_type": "code",
      "metadata": {
        "id": "BdBRxKCO8Qsk"
      },
      "source": [
        "from PIL import Image\n",
        "Image.open( '/content/código assincrono.png' )"
      ],
      "execution_count": null,
      "outputs": []
    },
    {
      "cell_type": "markdown",
      "metadata": {
        "id": "bVNiSkR6FbL9"
      },
      "source": [
        "    Elementos da programação funcional:\n",
        "     - lambda\n",
        "     - filter\n",
        "     - map\n",
        "     - reduce\n",
        "    "
      ]
    },
    {
      "cell_type": "code",
      "metadata": {
        "id": "S2DTd8riaZYX"
      },
      "source": [
        "def nome(parametro):\n",
        "  return expressão"
      ],
      "execution_count": null,
      "outputs": []
    },
    {
      "cell_type": "code",
      "metadata": {
        "id": "wtDY0h-7aego"
      },
      "source": [
        "nome = lambda parametro:expressao"
      ],
      "execution_count": null,
      "outputs": []
    },
    {
      "cell_type": "code",
      "metadata": {
        "id": "90uYI4AYakka"
      },
      "source": [
        "def f(x):\n",
        "  return x**2\n",
        "f(2)"
      ],
      "execution_count": null,
      "outputs": []
    },
    {
      "cell_type": "code",
      "metadata": {
        "id": "b5Fll1hyatiw"
      },
      "source": [
        "f = lambda i: i**2\n",
        "f(2)"
      ],
      "execution_count": null,
      "outputs": []
    },
    {
      "cell_type": "code",
      "metadata": {
        "id": "daRO6FtlbHCw"
      },
      "source": [
        "def ret(itens):\n",
        "    g = lambda x: (x**3 - 3*x + 2)**((-x/4) - 1)\n",
        "    return list(map(g, itens))\n",
        "ret([2,3,2,3,2,3])"
      ],
      "execution_count": null,
      "outputs": []
    },
    {
      "cell_type": "code",
      "metadata": {
        "id": "Cux77RV5gXz0"
      },
      "source": [
        "#Aplicação em tensores: Tensionamento de objetos até seu limite\n",
        "# Importância: Ensaio matemático do comportamento de propriedades físicas de materiais\n",
        "#https://pytorch.org/\n",
        "from PIL import Image\n",
        "Image.open('/content/1200px-Components_stress_tensor_cartesian.svg.png')"
      ],
      "execution_count": null,
      "outputs": []
    },
    {
      "cell_type": "code",
      "metadata": {
        "id": "46GwmMT3rsch"
      },
      "source": [
        "Image.open('/content/cerebro.jpeg')"
      ],
      "execution_count": null,
      "outputs": []
    },
    {
      "cell_type": "code",
      "metadata": {
        "id": "OR_mwzVesEos"
      },
      "source": [
        "Image.open('/content/filtro.jpg')"
      ],
      "execution_count": null,
      "outputs": []
    },
    {
      "cell_type": "code",
      "metadata": {
        "id": "97arHiOfAF7d"
      },
      "source": [
        "from sympy import *\n",
        "from sympy.plotting import *\n",
        "%matplotlib inline\n",
        "init_printing()"
      ],
      "execution_count": null,
      "outputs": []
    },
    {
      "cell_type": "code",
      "metadata": {
        "id": "TbRra3dfHTua"
      },
      "source": [
        "f = lambda x: ((x**3 - 3*x+2)**((-x/4)-(1)))\n",
        "f(5)"
      ],
      "execution_count": null,
      "outputs": []
    },
    {
      "cell_type": "code",
      "metadata": {
        "id": "duuNm9V058uX"
      },
      "source": [
        "var('x')\n",
        "f = lambda x: diff(x)\n",
        "f((x**2)/(x**3))"
      ],
      "execution_count": null,
      "outputs": []
    },
    {
      "cell_type": "code",
      "metadata": {
        "id": "o6wvglp3-QJZ"
      },
      "source": [
        "def analiseCurva():\n",
        "  # Derivada de primeira ordem\n",
        "  var('x')\n",
        "  func = ((1/3)*(x**3)- ((5/2)*(x**2)) + 6*x)\n",
        "  f = lambda x: diff(x)\n",
        "  # Passar a equação no domino\n",
        "  dominio = [-2,-1,0,1, 2, 3]\n",
        "  g = list(map(lambda dominio: (dominio**2 - 5*dominio + 6), dominio))\n",
        "\n",
        "  # Classificação da curva\n",
        "  resultado = []\n",
        "  for c in g:\n",
        "    if c == 0:\n",
        "      resultado.append('anula')\n",
        "    elif c > 0:\n",
        "      resultado.append('crescente')\n",
        "    else:\n",
        "      resultado.append('decrescente')\n",
        "\n",
        "  #Resultados\n",
        "  print(Symbol(str(f(func))))\n",
        "  print(dominio)\n",
        "  print(resultado)\n",
        "\n",
        "analiseCurva()"
      ],
      "execution_count": null,
      "outputs": []
    },
    {
      "cell_type": "code",
      "metadata": {
        "id": "UF7K8NYcRufx"
      },
      "source": [
        "#Foto de analise da curva\n",
        "from PIL import Image\n",
        "Image.open('')"
      ],
      "execution_count": null,
      "outputs": []
    },
    {
      "cell_type": "code",
      "metadata": {
        "id": "f50kUnX5hOdU"
      },
      "source": [
        "var('x')\n",
        "f = lambda x: integrate(x)\n",
        "f(x**2)"
      ],
      "execution_count": null,
      "outputs": []
    },
    {
      "cell_type": "markdown",
      "metadata": {
        "id": "Lkk-O5PpFvYA"
      },
      "source": [
        "    Aplicação estatística:\n",
        "    \n",
        "     - Regressão linear simples\n",
        "     - Correlação linear simples"
      ]
    },
    {
      "cell_type": "code",
      "metadata": {
        "id": "1hQem3nCyiUo"
      },
      "source": [
        "https://medium.com/data-hackers/implementando-regress%C3%A3o-linear-simples-em-python-91df53b920a8\n",
        "https://classroom.google.com/u/0/c/MTQ0NTEwNDIxNDU4"
      ],
      "execution_count": null,
      "outputs": []
    },
    {
      "cell_type": "markdown",
      "metadata": {
        "id": "9V6G6ob0ygW4"
      },
      "source": [
        "    Referências\n",
        "    https://www.youtube.com/watch?v=BxbHGPivjdc&t=304s\n",
        "    https://www.youtube.com/watch?v=53Lv3efp7Rk\n",
        "    https://segredo.dev/o-que-e-imutabilidade/#:~:text=Imutabilidade%20em%20seu%20conceito%20mais,valores%20ser%C3%A3o%20sempre%20os%20mesmos.\n",
        "    https://qastack.com.br/software/129674/how-would-functional-programming-proponents-answer-this-statement-in-code-comple\n",
        "    https://qastack.com.br/software/34906/why-is-it-good-not-to-rely-on-changing-state\n",
        "    https://blog.nubank.com.br/programacao-funcional-o-que-e-relacao-nubank/"
      ]
    }
  ]
}