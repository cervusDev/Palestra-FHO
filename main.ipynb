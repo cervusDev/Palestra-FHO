{
  "nbformat": 4,
  "nbformat_minor": 0,
  "metadata": {
    "colab": {
      "name": "Paradigma da programação: Programação Funcional",
      "private_outputs": true,
      "provenance": [],
      "authorship_tag": "ABX9TyOzLPvJ+syHbcnZ7aPUiJR9",
      "include_colab_link": true
    },
    "kernelspec": {
      "name": "python3",
      "display_name": "Python 3"
    },
    "language_info": {
      "name": "python"
    },
    "accelerator": "GPU"
  },
  "cells": [
    {
      "cell_type": "markdown",
      "metadata": {
        "id": "view-in-github",
        "colab_type": "text"
      },
      "source": [
        "<a href=\"https://colab.research.google.com/github/gucervus/Palestra-FHO/blob/main/main.ipynb\" target=\"_parent\"><img src=\"https://colab.research.google.com/assets/colab-badge.svg\" alt=\"Open In Colab\"/></a>"
      ]
    },
    {
      "cell_type": "markdown",
      "metadata": {
        "id": "a7hrcaDsGAO8"
      },
      "source": [
        "    Paradigma de programação: Uma forma de abordar um problema do ponto de vista \n",
        "    lógico e prático no momento de codar, padrão de comportamento\n",
        "\n",
        "    Esse paradigma trata a programação de um ponto de vista \n",
        "    matemático... \n",
        "    \n",
        "    Mas o que isso significa?"
      ]
    },
    {
      "cell_type": "markdown",
      "metadata": {
        "id": "syi4ElhuFyZl"
      },
      "source": [
        "Ponto de vita imperativo\n"
      ]
    },
    {
      "cell_type": "code",
      "metadata": {
        "id": "QRrOc2xoFJHh"
      },
      "source": [
        "a = int(input('Primeiro numero: '))\n",
        "b = int(input('Segundo numero: '))\n",
        "operacao = input('Qual a operação')\n",
        "\n",
        "if operacao == '+':\n",
        "  print(a+b)\n",
        "else:\n",
        "  print(\"Operação invalida no momento\")"
      ],
      "execution_count": null,
      "outputs": []
    },
    {
      "cell_type": "markdown",
      "metadata": {
        "id": "oCqbqu3yFuqE"
      },
      "source": [
        "Ponto de vista do objeto\n",
        "\n",
        "    1° Construir um objeto\n",
        "    2° Gerar os atributos desse objeto\n",
        "    3° Gerar as ações desse objeto\n",
        "\n",
        "    De maneira geral, a chamada da POO também é difere da \n",
        "    programação funcional"
      ]
    },
    {
      "cell_type": "code",
      "metadata": {
        "id": "nA0E1NVWFhQy"
      },
      "source": [
        "class Calculadora():\n",
        "  def __init__(self, primeiroNumero, segundoNumero):\n",
        "    self.primeiroNumero = primeiroNumero\n",
        "    self.segundoNumero = segundoNumero\n",
        "\n",
        "  def soma(self):\n",
        "    return self.primeiroNumero + self.segundoNumero\n",
        "\n",
        "if __name__ == '__main__':\n",
        "  objeto = Calculadora(10,7)\n",
        "  print(objeto.soma())"
      ],
      "execution_count": null,
      "outputs": []
    },
    {
      "cell_type": "markdown",
      "metadata": {
        "id": "vB8BUGfPKcdD"
      },
      "source": [
        "Ponto de vista funcional\n",
        "    \n",
        "    . Adição de quaisquer sequência de números\n",
        "    . Elementos que constituem a operação\n",
        "    . Operação em si"
      ]
    },
    {
      "cell_type": "code",
      "metadata": {
        "id": "2afBTcExIjOM"
      },
      "source": [
        "def soma(a,b):\n",
        "  soma = a + b\n",
        "  return soma\n",
        "soma(10,7)"
      ],
      "execution_count": null,
      "outputs": []
    },
    {
      "cell_type": "markdown",
      "metadata": {
        "id": "mYqenhjBIVSU"
      },
      "source": [
        "Principais linguagens de programação\n",
        "\n",
        "    .Lua: wordwarcraft, angry birds, civilization, street figther IV\n",
        "    .Elixir: Globosat, pinterest, Gopro\n",
        "    .Scala: Tumbler, Linkedin, Simiens, Twitter\n"
      ]
    },
    {
      "cell_type": "code",
      "metadata": {
        "id": "H_AH1svdIYii"
      },
      "source": [
        "\n",
        "from PIL import Image\n",
        "Image.open('/content/LP_Funcional.png')"
      ],
      "execution_count": null,
      "outputs": []
    },
    {
      "cell_type": "markdown",
      "metadata": {
        "id": "yZddMgsjNe9W"
      },
      "source": [
        "      Mas e essa tal de independência?\n",
        "\n",
        "        1. Possuir ao menos um parâmetro: Irá permitir que o usuário interaja com a aplicação\n",
        "        2. Deve retornar um objeto (valor, string, função)\n",
        "        3. Não deve possuir loops: Elementos do paradigma imperativo\n",
        "\n",
        "        # Usar o minímo necessário de elementos do paradigma imperativo"
      ]
    },
    {
      "cell_type": "code",
      "metadata": {
        "id": "Vo2emfw_P0pu"
      },
      "source": [
        "def criaArray():\n",
        "  palavra = 'olá mundo'\n",
        "  lista = []\n",
        "  for i in palavra:\n",
        "    lista+=[i]\n",
        "\n",
        "  print(lista)\n",
        "\n",
        "criaArray()"
      ],
      "execution_count": null,
      "outputs": []
    },
    {
      "cell_type": "markdown",
      "metadata": {
        "id": "VhbKeslZ9uMn"
      },
      "source": [
        "    Função de alta ordem é uma função que recebe ou retorna uma função. \n",
        "    Só é a possível definir uma função de alta ordem, se a linguagem tem \n",
        "    funções de primeira classe, pois é necessário que funções sejam \"passáveis\"."
      ]
    },
    {
      "cell_type": "code",
      "metadata": {
        "id": "MWmCHs1YLKuX"
      },
      "source": [
        "def criaArray(palavra):\n",
        "  f = lambda i:i\n",
        "  return list(map(str, f(palavra)))\n",
        "criaArray('olá mundo')"
      ],
      "execution_count": null,
      "outputs": []
    },
    {
      "cell_type": "markdown",
      "metadata": {
        "id": "ShhhdK2ERsQN"
      },
      "source": [
        "      Caracteristicas básicas de uma função\n",
        "\n",
        "        . Imutável \n",
        "          - Criar novos objetos, ao invés de ficar operando sobre um mesmo \n",
        "        . Sem mudança de estados\n",
        "          - Evitar efeitos colaterais ao longo da operação"
      ]
    },
    {
      "cell_type": "markdown",
      "metadata": {
        "id": "gazo63qI4N_-"
      },
      "source": [
        "Criação de lista sem mutabilidade"
      ]
    },
    {
      "cell_type": "code",
      "metadata": {
        "id": "mM_Qcm9HdA4s"
      },
      "source": [
        "def separa(): \n",
        "  array = list()\n",
        "  y = 0\n",
        "\n",
        "  for i in range(1,7+1):\n",
        "        \n",
        "    valores = int(input(f\"Digite o {i}° valor: \"))\n",
        "    \n",
        "    if valores % 2 == 0:\n",
        "      y+=1\n",
        "      array.insert(0,valores)  \n",
        "    else:\n",
        "      array.insert(len(array),valores)\n",
        "      \n",
        "  print(sorted(array[:y]) + sorted(array[y:]))\n",
        "\n",
        "separa()"
      ],
      "execution_count": null,
      "outputs": []
    },
    {
      "cell_type": "markdown",
      "metadata": {
        "id": "G6n9ZFYu4gIi"
      },
      "source": [
        "    Mesma operação com mutabilidade:\n",
        "\n",
        "    . Criar uma lista\n",
        "    . Atruibuir a lista como parametro\n",
        "    . Interagir com o parametro\n",
        "    . Criar uma nova lista\n",
        "\n",
        "    # Função de primeira classe"
      ]
    },
    {
      "cell_type": "code",
      "metadata": {
        "id": "niPOiQ6cYdgC"
      },
      "source": [
        "def ordena(lista): \n",
        "  novaLista = sorted(filter(lambda i: i % 2 == 0, lista)) + sorted(filter(lambda i: i % 2 == 1, lista))\n",
        "  return novaLista\n",
        "  \n",
        "lista = [int(input(f'{c+1}° número: ')) for c in range(7)]\n",
        "ordena(lista)"
      ],
      "execution_count": null,
      "outputs": []
    },
    {
      "cell_type": "markdown",
      "metadata": {
        "id": "yH51ylN8tQ8V"
      },
      "source": [
        "    Ganho: \n",
        "    . Torna os programas mais próximos de expressões matemáticas\n",
        "    . Torna as declarações mais simples e direta\n",
        "    . Confinamento de valores em espaços imutáveis na memória\n",
        "    . Torna o código mais amigável a leitura e refatoramento"
      ]
    },
    {
      "cell_type": "markdown",
      "metadata": {
        "id": "TGkrnb1KjfGg"
      },
      "source": [
        "#Efeitos colaterais"
      ]
    },
    {
      "cell_type": "code",
      "metadata": {
        "id": "a1DQfvG2jhiF"
      },
      "source": [
        "from datetime import date\n",
        "def atribui():\n",
        "  data_atual = date.today()\n",
        "  nova_data = str(data_atual)\n",
        "  data_final = int(nova_data[5:7]) + 1\n",
        "  return data_final\n",
        "atribui()"
      ],
      "execution_count": null,
      "outputs": []
    },
    {
      "cell_type": "code",
      "metadata": {
        "id": "uPKgjtvy4NF8"
      },
      "source": [
        "import requests\n",
        "from time import sleep\n",
        "def resposta(request):\n",
        "  sleep(5)\n",
        "  return request.status_code\n",
        "resposta(requests.get('https://github.com/'))"
      ],
      "execution_count": null,
      "outputs": []
    },
    {
      "cell_type": "markdown",
      "metadata": {
        "id": "bVNiSkR6FbL9"
      },
      "source": [
        "    Elementos da programação funcional:\n",
        "     - lambda\n",
        "     - filter\n",
        "     - map\n",
        "     - reduce\n",
        "     "
      ]
    },
    {
      "cell_type": "code",
      "metadata": {
        "id": "S2DTd8riaZYX"
      },
      "source": [
        "def nome(parametro):\n",
        "  return expressão"
      ],
      "execution_count": null,
      "outputs": []
    },
    {
      "cell_type": "code",
      "metadata": {
        "id": "wtDY0h-7aego"
      },
      "source": [
        "nome = lambda parametro:expressao"
      ],
      "execution_count": null,
      "outputs": []
    },
    {
      "cell_type": "code",
      "metadata": {
        "id": "90uYI4AYakka"
      },
      "source": [
        "def f(x):\n",
        "  return x**2\n",
        "f(2)"
      ],
      "execution_count": null,
      "outputs": []
    },
    {
      "cell_type": "code",
      "metadata": {
        "id": "b5Fll1hyatiw"
      },
      "source": [
        "f = lambda i: i**2\n",
        "f(2)"
      ],
      "execution_count": null,
      "outputs": []
    },
    {
      "cell_type": "code",
      "metadata": {
        "id": "daRO6FtlbHCw"
      },
      "source": [
        "def interacao(lista):\n",
        "    g = lambda x: (x**3 - 3*x + 2)**((-x/4) - 1)\n",
        "    return list(map(g, itens))\n",
        "ret([2,3,2,3,2,3])"
      ],
      "execution_count": null,
      "outputs": []
    },
    {
      "cell_type": "code",
      "metadata": {
        "id": "46GwmMT3rsch"
      },
      "source": [
        "Image.open('/content/cerebro.jpeg')"
      ],
      "execution_count": null,
      "outputs": []
    },
    {
      "cell_type": "code",
      "metadata": {
        "id": "OR_mwzVesEos"
      },
      "source": [
        "Image.open('/content/filtro.jpg')"
      ],
      "execution_count": null,
      "outputs": []
    },
    {
      "cell_type": "code",
      "metadata": {
        "id": "97arHiOfAF7d"
      },
      "source": [
        "from sympy import *"
      ],
      "execution_count": null,
      "outputs": []
    },
    {
      "cell_type": "code",
      "metadata": {
        "id": "TbRra3dfHTua"
      },
      "source": [
        "f = lambda x: ((x**3 - 3*x+2)**((-x/4)-(1)))\n",
        "f(5)"
      ],
      "execution_count": null,
      "outputs": []
    },
    {
      "cell_type": "code",
      "metadata": {
        "id": "duuNm9V058uX"
      },
      "source": [
        "var('x')\n",
        "f = lambda x: diff(x)\n",
        "f((x**2)/(x**3))"
      ],
      "execution_count": null,
      "outputs": []
    },
    {
      "cell_type": "code",
      "metadata": {
        "id": "o6wvglp3-QJZ"
      },
      "source": [
        "def analiseCurva():\n",
        "  # Derivada de primeira ordem\n",
        "  var('x')\n",
        "  func = ((1/3)*(x**3)- ((5/2)*(x**2)) + 6*x)\n",
        "  f = lambda x: diff(x)\n",
        "  # Passar a equação no domino\n",
        "  dominio = [-2,-1,0,1, 2, 3]\n",
        "  g = list(map(lambda dominio: (dominio**2 - 5*dominio + 6), dominio))\n",
        "\n",
        "  # Classificação da curva\n",
        "  resultado = []\n",
        "  for c in g:\n",
        "    if c == 0:\n",
        "      resultado.append('anula')\n",
        "    elif c > 0:\n",
        "      resultado.append('crescente')\n",
        "    else:\n",
        "      resultado.append('decrescente')\n",
        "\n",
        "  #Resultados\n",
        "  print(Symbol(str(f(func))))\n",
        "  print(dominio)\n",
        "  print(resultado)\n",
        "\n",
        "analiseCurva()"
      ],
      "execution_count": null,
      "outputs": []
    },
    {
      "cell_type": "markdown",
      "metadata": {
        "id": "rt_WpbtJASNE"
      },
      "source": [
        "    Foto da análise da curva"
      ]
    },
    {
      "cell_type": "code",
      "metadata": {
        "id": "UF7K8NYcRufx"
      },
      "source": [
        "from PIL import Image\n",
        "Image.open('')"
      ],
      "execution_count": null,
      "outputs": []
    },
    {
      "cell_type": "code",
      "metadata": {
        "id": "f50kUnX5hOdU"
      },
      "source": [
        "var('x')\n",
        "f = lambda x: integrate(x)\n",
        "f(x**2)"
      ],
      "execution_count": null,
      "outputs": []
    },
    {
      "cell_type": "markdown",
      "metadata": {
        "id": "Lkk-O5PpFvYA"
      },
      "source": [
        "    Aplicação estatística:\n",
        "\n",
        "    - Correlação linear simples\n",
        "    - Regressão linear simples\n",
        "\n",
        "    Os estudos ligados a regressão aplicam-se aquelas situações\n",
        "    em que há razões para supor uma relação de causa-efeito\n",
        "    entre duas variáveis quatitativas e se deseja expressar\n",
        "    matematicamente essa relação\n",
        "\n",
        "    Relacionamento entre X (variável independente, explicativa) e \n",
        "    Y (variável dependente, resposta)\n",
        "\n",
        "    Esse relacionamento é explicado por um modelo matemático,\n",
        "    uma equação que associa a variável dependente com a independente\n",
        "\n",
        "    Ex: Resultados para o teor de cálcio no solo (x) e a porcentagem\n",
        "    de turberculos maduros (y) em uma parcela aleatória da população"
      ]
    },
    {
      "cell_type": "code",
      "metadata": {
        "id": "AW74FE55fjAU"
      },
      "source": [
        "from functools import reduce\n",
        "import numpy as np\n",
        "from statistics import mean\n",
        "def RegressaoLinear(calcio_x, tuberculos_y):\n",
        "\n",
        "  #Pesos\n",
        "  n = len(calcio_x)\n",
        "  soma_x = reduce(lambda calcio_x, i: i+calcio_x, calcio_x)\n",
        "  soma_y = reduce(lambda tuberculos_y, y: y+tuberculos_y, tuberculos_y)\n",
        "  soma_xy = sum(x*y for x,y in zip(calcio_x,tuberculos_y))\n",
        "  soma_quadrada_x = sum(np.array(calcio_x)**2)\n",
        "  soma_quadrada_y = sum(np.array(tuberculos_y)**2)\n",
        "\n",
        "  #Estatistica do teste\n",
        "  #Coeficiente de correlaçao de Person\n",
        "  R2 = ((n*soma_xy)-(soma_x*soma_y))/sqrt(((n*soma_quadrada_x)-soma_x**2)*((n*soma_quadrada_y)-(soma_y**2)))\n",
        "  t = R2*sqrt((n-2)/(1 - R2*R2))\n",
        "\n",
        "  tStudent = [{\n",
        "    '7': [12.7062,4.3027,3.1824,2.7765,2.5706,2.4469,2.3646]\n",
        "  }]\n",
        "  ts = tStudent[0]['7'][6]\n",
        "\n",
        "  #H0: Não existe correlação\n",
        "  #H1: Existe correlação\n",
        "\n",
        "  if abs(t) >=ts:\n",
        "    print(' Rejeita-se H0\\n',\n",
        "  f'Com o valor t = {t:.2f} sendo maior que o valor tabelado {ts}\\n',\n",
        "  'rejeitamos H0 e concluimos que há correlação entre o teor de cálcio no solo\\n',\n",
        "  f'e a porcentagem de tuberculos maduros de acordo com a classificação r = {R2:.2f}\\n')\n",
        "  else:\n",
        "    print('Rejeita-se H1')\n",
        "  \n",
        "  #Construindo a reta de regressão\n",
        "  media_x = mean(np.array(calcio_x))\n",
        "  media_y = mean(np.array(tuberculos_y))\n",
        "    \n",
        "  #Construindo a reta estimada de regresaão: Y = a +bx\n",
        "  beta = (soma_xy - n * media_x * media_y ) / (soma_quadrada_x - n * ( media_x * media_x ) )\n",
        "  alfa = ((media_y)-(beta*media_x))\n",
        "\n",
        "  #Predição\n",
        "  predicao = lambda x: alfa + (beta*x)\n",
        "  num = float(input(' Qual o valor de x deseja predizer?: '))\n",
        "  print(f' Com a reta real sendo, y = {alfa:.2f} + {beta:.2f}X')\n",
        "  print(f' Para x = {num}, temos y = {predicao(1.1)}')\n",
        "  \n",
        "RegressaoLinear([0.2, 0.3, 0.4, 0.5, 0.7, 0.8, 1.0, 1.1, 1.3],[75, 79, 80, 86, 88, 89, 93, 95, 99])"
      ],
      "execution_count": null,
      "outputs": []
    }
  ]
}